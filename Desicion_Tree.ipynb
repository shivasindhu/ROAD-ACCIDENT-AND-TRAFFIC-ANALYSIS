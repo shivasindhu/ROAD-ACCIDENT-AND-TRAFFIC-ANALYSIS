{
  "nbformat": 4,
  "nbformat_minor": 0,
  "metadata": {
    "colab": {
      "name": "Desicion Tree",
      "provenance": [],
      "collapsed_sections": []
    },
    "kernelspec": {
      "name": "python3",
      "display_name": "Python 3"
    },
    "language_info": {
      "name": "python"
    }
  },
  "cells": [
    {
      "cell_type": "code",
      "source": [
        ""
      ],
      "metadata": {
        "id": "fqo7Dc9VWWW-"
      },
      "execution_count": null,
      "outputs": []
    },
    {
      "cell_type": "code",
      "execution_count": null,
      "metadata": {
        "id": "6mqPTi90MXOx"
      },
      "outputs": [],
      "source": [
        "import pandas as pd\n",
        "import numpy as np\n",
        "import matplotlib.pyplot as plt\n",
        "from sklearn.model_selection import train_test_split\n",
        "import seaborn as sns\n",
        "import os"
      ]
    },
    {
      "cell_type": "code",
      "source": [
        "from google.colab import drive\n",
        "drive.mount(\"/content/drive\")"
      ],
      "metadata": {
        "colab": {
          "base_uri": "https://localhost:8080/"
        },
        "id": "iOGNho7nOy7s",
        "outputId": "64a4eeff-c05b-449a-d1cb-8033d3938211"
      },
      "execution_count": null,
      "outputs": [
        {
          "output_type": "stream",
          "name": "stdout",
          "text": [
            "Drive already mounted at /content/drive; to attempt to forcibly remount, call drive.mount(\"/content/drive\", force_remount=True).\n"
          ]
        }
      ]
    },
    {
      "cell_type": "code",
      "source": [
        "df1=pd.read_csv('/content/drive/MyDrive/data.csv')"
      ],
      "metadata": {
        "colab": {
          "base_uri": "https://localhost:8080/"
        },
        "id": "Ys9nChVNR0sU",
        "outputId": "603d02ca-a693-4ff7-8836-064c3397c83b"
      },
      "execution_count": null,
      "outputs": [
        {
          "output_type": "stream",
          "name": "stderr",
          "text": [
            "/usr/local/lib/python3.7/dist-packages/IPython/core/interactiveshell.py:2882: DtypeWarning: Columns (0,55) have mixed types.Specify dtype option on import or set low_memory=False.\n",
            "  exec(code_obj, self.user_global_ns, self.user_ns)\n"
          ]
        }
      ]
    },
    {
      "cell_type": "code",
      "source": [
        "df1.head()"
      ],
      "metadata": {
        "colab": {
          "base_uri": "https://localhost:8080/",
          "height": 317
        },
        "id": "aWEBdBgIS_zf",
        "outputId": "c0400cfd-6bfd-47cc-9610-f8f31507e7cd"
      },
      "execution_count": null,
      "outputs": [
        {
          "output_type": "execute_result",
          "data": {
            "text/plain": [
              "  accident_index  vehicle_reference  vehicle_type  towing_and_articulation  \\\n",
              "0  201506E098757                2.0           9.0                      0.0   \n",
              "1  201506E098766                1.0           9.0                      0.0   \n",
              "2  201506E098766                2.0           9.0                      0.0   \n",
              "3  201506E098777                1.0          20.0                      0.0   \n",
              "4  201506E098780                1.0           9.0                      0.0   \n",
              "\n",
              "   vehicle_manoeuvre  vehicle_location-restricted_lane  junction_location  \\\n",
              "0               18.0                               0.0                8.0   \n",
              "1                9.0                               0.0                8.0   \n",
              "2               18.0                               0.0                8.0   \n",
              "3                4.0                               0.0                0.0   \n",
              "4               15.0                               0.0                1.0   \n",
              "\n",
              "   skidding_and_overturning  hit_object_in_carriageway  \\\n",
              "0                       0.0                        0.0   \n",
              "1                       0.0                        0.0   \n",
              "2                       0.0                        0.0   \n",
              "3                       0.0                        0.0   \n",
              "4                       0.0                        0.0   \n",
              "\n",
              "   vehicle_leaving_carriageway  ...  age_band_of_casualty  casualty_severity  \\\n",
              "0                          0.0  ...                   NaN                NaN   \n",
              "1                          0.0  ...                   NaN                NaN   \n",
              "2                          0.0  ...                   8.0                3.0   \n",
              "3                          0.0  ...                   6.0                3.0   \n",
              "4                          0.0  ...                   NaN                NaN   \n",
              "\n",
              "   pedestrian_location  pedestrian_movement  car_passenger  \\\n",
              "0                  NaN                  NaN            NaN   \n",
              "1                  NaN                  NaN            NaN   \n",
              "2                  0.0                  0.0            0.0   \n",
              "3                  1.0                  1.0            0.0   \n",
              "4                  NaN                  NaN            NaN   \n",
              "\n",
              "   bus_or_coach_passenger  pedestrian_road_maintenance_worker  casualty_type  \\\n",
              "0                     NaN                                 NaN            NaN   \n",
              "1                     NaN                                 NaN            NaN   \n",
              "2                     0.0                                 0.0            9.0   \n",
              "3                     0.0                                 0.0            0.0   \n",
              "4                     NaN                                 NaN            NaN   \n",
              "\n",
              "   casualty_home_area_type  casualty_imd_decile  \n",
              "0                      NaN                  NaN  \n",
              "1                      NaN                  NaN  \n",
              "2                      1.0                  3.0  \n",
              "3                      1.0                  1.0  \n",
              "4                      NaN                  NaN  \n",
              "\n",
              "[5 rows x 70 columns]"
            ],
            "text/html": [
              "\n",
              "  <div id=\"df-b0ef34d3-64a4-4904-ae71-68094f8e8c4a\">\n",
              "    <div class=\"colab-df-container\">\n",
              "      <div>\n",
              "<style scoped>\n",
              "    .dataframe tbody tr th:only-of-type {\n",
              "        vertical-align: middle;\n",
              "    }\n",
              "\n",
              "    .dataframe tbody tr th {\n",
              "        vertical-align: top;\n",
              "    }\n",
              "\n",
              "    .dataframe thead th {\n",
              "        text-align: right;\n",
              "    }\n",
              "</style>\n",
              "<table border=\"1\" class=\"dataframe\">\n",
              "  <thead>\n",
              "    <tr style=\"text-align: right;\">\n",
              "      <th></th>\n",
              "      <th>accident_index</th>\n",
              "      <th>vehicle_reference</th>\n",
              "      <th>vehicle_type</th>\n",
              "      <th>towing_and_articulation</th>\n",
              "      <th>vehicle_manoeuvre</th>\n",
              "      <th>vehicle_location-restricted_lane</th>\n",
              "      <th>junction_location</th>\n",
              "      <th>skidding_and_overturning</th>\n",
              "      <th>hit_object_in_carriageway</th>\n",
              "      <th>vehicle_leaving_carriageway</th>\n",
              "      <th>...</th>\n",
              "      <th>age_band_of_casualty</th>\n",
              "      <th>casualty_severity</th>\n",
              "      <th>pedestrian_location</th>\n",
              "      <th>pedestrian_movement</th>\n",
              "      <th>car_passenger</th>\n",
              "      <th>bus_or_coach_passenger</th>\n",
              "      <th>pedestrian_road_maintenance_worker</th>\n",
              "      <th>casualty_type</th>\n",
              "      <th>casualty_home_area_type</th>\n",
              "      <th>casualty_imd_decile</th>\n",
              "    </tr>\n",
              "  </thead>\n",
              "  <tbody>\n",
              "    <tr>\n",
              "      <th>0</th>\n",
              "      <td>201506E098757</td>\n",
              "      <td>2.0</td>\n",
              "      <td>9.0</td>\n",
              "      <td>0.0</td>\n",
              "      <td>18.0</td>\n",
              "      <td>0.0</td>\n",
              "      <td>8.0</td>\n",
              "      <td>0.0</td>\n",
              "      <td>0.0</td>\n",
              "      <td>0.0</td>\n",
              "      <td>...</td>\n",
              "      <td>NaN</td>\n",
              "      <td>NaN</td>\n",
              "      <td>NaN</td>\n",
              "      <td>NaN</td>\n",
              "      <td>NaN</td>\n",
              "      <td>NaN</td>\n",
              "      <td>NaN</td>\n",
              "      <td>NaN</td>\n",
              "      <td>NaN</td>\n",
              "      <td>NaN</td>\n",
              "    </tr>\n",
              "    <tr>\n",
              "      <th>1</th>\n",
              "      <td>201506E098766</td>\n",
              "      <td>1.0</td>\n",
              "      <td>9.0</td>\n",
              "      <td>0.0</td>\n",
              "      <td>9.0</td>\n",
              "      <td>0.0</td>\n",
              "      <td>8.0</td>\n",
              "      <td>0.0</td>\n",
              "      <td>0.0</td>\n",
              "      <td>0.0</td>\n",
              "      <td>...</td>\n",
              "      <td>NaN</td>\n",
              "      <td>NaN</td>\n",
              "      <td>NaN</td>\n",
              "      <td>NaN</td>\n",
              "      <td>NaN</td>\n",
              "      <td>NaN</td>\n",
              "      <td>NaN</td>\n",
              "      <td>NaN</td>\n",
              "      <td>NaN</td>\n",
              "      <td>NaN</td>\n",
              "    </tr>\n",
              "    <tr>\n",
              "      <th>2</th>\n",
              "      <td>201506E098766</td>\n",
              "      <td>2.0</td>\n",
              "      <td>9.0</td>\n",
              "      <td>0.0</td>\n",
              "      <td>18.0</td>\n",
              "      <td>0.0</td>\n",
              "      <td>8.0</td>\n",
              "      <td>0.0</td>\n",
              "      <td>0.0</td>\n",
              "      <td>0.0</td>\n",
              "      <td>...</td>\n",
              "      <td>8.0</td>\n",
              "      <td>3.0</td>\n",
              "      <td>0.0</td>\n",
              "      <td>0.0</td>\n",
              "      <td>0.0</td>\n",
              "      <td>0.0</td>\n",
              "      <td>0.0</td>\n",
              "      <td>9.0</td>\n",
              "      <td>1.0</td>\n",
              "      <td>3.0</td>\n",
              "    </tr>\n",
              "    <tr>\n",
              "      <th>3</th>\n",
              "      <td>201506E098777</td>\n",
              "      <td>1.0</td>\n",
              "      <td>20.0</td>\n",
              "      <td>0.0</td>\n",
              "      <td>4.0</td>\n",
              "      <td>0.0</td>\n",
              "      <td>0.0</td>\n",
              "      <td>0.0</td>\n",
              "      <td>0.0</td>\n",
              "      <td>0.0</td>\n",
              "      <td>...</td>\n",
              "      <td>6.0</td>\n",
              "      <td>3.0</td>\n",
              "      <td>1.0</td>\n",
              "      <td>1.0</td>\n",
              "      <td>0.0</td>\n",
              "      <td>0.0</td>\n",
              "      <td>0.0</td>\n",
              "      <td>0.0</td>\n",
              "      <td>1.0</td>\n",
              "      <td>1.0</td>\n",
              "    </tr>\n",
              "    <tr>\n",
              "      <th>4</th>\n",
              "      <td>201506E098780</td>\n",
              "      <td>1.0</td>\n",
              "      <td>9.0</td>\n",
              "      <td>0.0</td>\n",
              "      <td>15.0</td>\n",
              "      <td>0.0</td>\n",
              "      <td>1.0</td>\n",
              "      <td>0.0</td>\n",
              "      <td>0.0</td>\n",
              "      <td>0.0</td>\n",
              "      <td>...</td>\n",
              "      <td>NaN</td>\n",
              "      <td>NaN</td>\n",
              "      <td>NaN</td>\n",
              "      <td>NaN</td>\n",
              "      <td>NaN</td>\n",
              "      <td>NaN</td>\n",
              "      <td>NaN</td>\n",
              "      <td>NaN</td>\n",
              "      <td>NaN</td>\n",
              "      <td>NaN</td>\n",
              "    </tr>\n",
              "  </tbody>\n",
              "</table>\n",
              "<p>5 rows × 70 columns</p>\n",
              "</div>\n",
              "      <button class=\"colab-df-convert\" onclick=\"convertToInteractive('df-b0ef34d3-64a4-4904-ae71-68094f8e8c4a')\"\n",
              "              title=\"Convert this dataframe to an interactive table.\"\n",
              "              style=\"display:none;\">\n",
              "        \n",
              "  <svg xmlns=\"http://www.w3.org/2000/svg\" height=\"24px\"viewBox=\"0 0 24 24\"\n",
              "       width=\"24px\">\n",
              "    <path d=\"M0 0h24v24H0V0z\" fill=\"none\"/>\n",
              "    <path d=\"M18.56 5.44l.94 2.06.94-2.06 2.06-.94-2.06-.94-.94-2.06-.94 2.06-2.06.94zm-11 1L8.5 8.5l.94-2.06 2.06-.94-2.06-.94L8.5 2.5l-.94 2.06-2.06.94zm10 10l.94 2.06.94-2.06 2.06-.94-2.06-.94-.94-2.06-.94 2.06-2.06.94z\"/><path d=\"M17.41 7.96l-1.37-1.37c-.4-.4-.92-.59-1.43-.59-.52 0-1.04.2-1.43.59L10.3 9.45l-7.72 7.72c-.78.78-.78 2.05 0 2.83L4 21.41c.39.39.9.59 1.41.59.51 0 1.02-.2 1.41-.59l7.78-7.78 2.81-2.81c.8-.78.8-2.07 0-2.86zM5.41 20L4 18.59l7.72-7.72 1.47 1.35L5.41 20z\"/>\n",
              "  </svg>\n",
              "      </button>\n",
              "      \n",
              "  <style>\n",
              "    .colab-df-container {\n",
              "      display:flex;\n",
              "      flex-wrap:wrap;\n",
              "      gap: 12px;\n",
              "    }\n",
              "\n",
              "    .colab-df-convert {\n",
              "      background-color: #E8F0FE;\n",
              "      border: none;\n",
              "      border-radius: 50%;\n",
              "      cursor: pointer;\n",
              "      display: none;\n",
              "      fill: #1967D2;\n",
              "      height: 32px;\n",
              "      padding: 0 0 0 0;\n",
              "      width: 32px;\n",
              "    }\n",
              "\n",
              "    .colab-df-convert:hover {\n",
              "      background-color: #E2EBFA;\n",
              "      box-shadow: 0px 1px 2px rgba(60, 64, 67, 0.3), 0px 1px 3px 1px rgba(60, 64, 67, 0.15);\n",
              "      fill: #174EA6;\n",
              "    }\n",
              "\n",
              "    [theme=dark] .colab-df-convert {\n",
              "      background-color: #3B4455;\n",
              "      fill: #D2E3FC;\n",
              "    }\n",
              "\n",
              "    [theme=dark] .colab-df-convert:hover {\n",
              "      background-color: #434B5C;\n",
              "      box-shadow: 0px 1px 3px 1px rgba(0, 0, 0, 0.15);\n",
              "      filter: drop-shadow(0px 1px 2px rgba(0, 0, 0, 0.3));\n",
              "      fill: #FFFFFF;\n",
              "    }\n",
              "  </style>\n",
              "\n",
              "      <script>\n",
              "        const buttonEl =\n",
              "          document.querySelector('#df-b0ef34d3-64a4-4904-ae71-68094f8e8c4a button.colab-df-convert');\n",
              "        buttonEl.style.display =\n",
              "          google.colab.kernel.accessAllowed ? 'block' : 'none';\n",
              "\n",
              "        async function convertToInteractive(key) {\n",
              "          const element = document.querySelector('#df-b0ef34d3-64a4-4904-ae71-68094f8e8c4a');\n",
              "          const dataTable =\n",
              "            await google.colab.kernel.invokeFunction('convertToInteractive',\n",
              "                                                     [key], {});\n",
              "          if (!dataTable) return;\n",
              "\n",
              "          const docLinkHtml = 'Like what you see? Visit the ' +\n",
              "            '<a target=\"_blank\" href=https://colab.research.google.com/notebooks/data_table.ipynb>data table notebook</a>'\n",
              "            + ' to learn more about interactive tables.';\n",
              "          element.innerHTML = '';\n",
              "          dataTable['output_type'] = 'display_data';\n",
              "          await google.colab.output.renderOutput(dataTable, element);\n",
              "          const docLink = document.createElement('div');\n",
              "          docLink.innerHTML = docLinkHtml;\n",
              "          element.appendChild(docLink);\n",
              "        }\n",
              "      </script>\n",
              "    </div>\n",
              "  </div>\n",
              "  "
            ]
          },
          "metadata": {},
          "execution_count": 21
        }
      ]
    },
    {
      "cell_type": "code",
      "source": [
        "df1.shape"
      ],
      "metadata": {
        "colab": {
          "base_uri": "https://localhost:8080/"
        },
        "id": "sgnQk2lVTDb1",
        "outputId": "6dd89af3-ab1e-41bf-c7b6-233ca024ad0e"
      },
      "execution_count": null,
      "outputs": [
        {
          "output_type": "execute_result",
          "data": {
            "text/plain": [
              "(285332, 70)"
            ]
          },
          "metadata": {},
          "execution_count": 22
        }
      ]
    },
    {
      "cell_type": "code",
      "source": [
        "df1.size"
      ],
      "metadata": {
        "colab": {
          "base_uri": "https://localhost:8080/"
        },
        "id": "sSTvwf60TSRG",
        "outputId": "60180951-48ad-4762-f0c2-f588747f8f6f"
      },
      "execution_count": null,
      "outputs": [
        {
          "output_type": "execute_result",
          "data": {
            "text/plain": [
              "19973240"
            ]
          },
          "metadata": {},
          "execution_count": 23
        }
      ]
    },
    {
      "cell_type": "code",
      "source": [
        "df1.describe()"
      ],
      "metadata": {
        "colab": {
          "base_uri": "https://localhost:8080/",
          "height": 411
        },
        "id": "btyMY6BqTUIe",
        "outputId": "056be69a-deda-491b-ef16-0708b1a7b932"
      },
      "execution_count": null,
      "outputs": [
        {
          "output_type": "execute_result",
          "data": {
            "text/plain": [
              "       vehicle_reference   vehicle_type  towing_and_articulation  \\\n",
              "count       2.853320e+05  285331.000000            285331.000000   \n",
              "mean        7.063002e+06       9.570765                 0.026741   \n",
              "std         3.772806e+09       8.515910                 0.289672   \n",
              "min         1.000000e+00      -1.000000                -1.000000   \n",
              "25%         1.000000e+00       9.000000                 0.000000   \n",
              "50%         1.000000e+00       9.000000                 0.000000   \n",
              "75%         2.000000e+00       9.000000                 0.000000   \n",
              "max         2.015300e+12      98.000000                 5.000000   \n",
              "\n",
              "       vehicle_manoeuvre  vehicle_location-restricted_lane  junction_location  \\\n",
              "count      285331.000000                     285331.000000      285331.000000   \n",
              "mean           12.625323                          0.124038           2.700075   \n",
              "std             6.191873                          0.965362           3.270800   \n",
              "min            -1.000000                         -1.000000          -1.000000   \n",
              "25%             7.000000                          0.000000           0.000000   \n",
              "50%            17.000000                          0.000000           1.000000   \n",
              "75%            18.000000                          0.000000           6.000000   \n",
              "max            18.000000                          9.000000           8.000000   \n",
              "\n",
              "       skidding_and_overturning  hit_object_in_carriageway  \\\n",
              "count             285331.000000              285331.000000   \n",
              "mean                   0.200041                   0.340356   \n",
              "std                    0.748732                   1.679784   \n",
              "min                   -1.000000                  -1.000000   \n",
              "25%                    0.000000                   0.000000   \n",
              "50%                    0.000000                   0.000000   \n",
              "75%                    0.000000                   0.000000   \n",
              "max                    5.000000                  12.000000   \n",
              "\n",
              "       vehicle_leaving_carriageway  hit_object_off_carriageway  ...  \\\n",
              "count                285331.000000               285331.000000  ...   \n",
              "mean                      0.377502                    0.590244  ...   \n",
              "std                       1.393303                    2.168011  ...   \n",
              "min                      -1.000000                   -1.000000  ...   \n",
              "25%                       0.000000                    0.000000  ...   \n",
              "50%                       0.000000                    0.000000  ...   \n",
              "75%                       0.000000                    0.000000  ...   \n",
              "max                       8.000000                   11.000000  ...   \n",
              "\n",
              "       age_band_of_casualty  casualty_severity  pedestrian_location  \\\n",
              "count         186072.000000      186072.000000        186072.000000   \n",
              "mean               6.245512           2.862462             0.672277   \n",
              "std                2.386162           0.370414             1.951045   \n",
              "min               -1.000000           1.000000            -1.000000   \n",
              "25%                5.000000           3.000000             0.000000   \n",
              "50%                6.000000           3.000000             0.000000   \n",
              "75%                8.000000           3.000000             0.000000   \n",
              "max               11.000000           3.000000            10.000000   \n",
              "\n",
              "       pedestrian_movement  car_passenger  bus_or_coach_passenger  \\\n",
              "count        186072.000000  186072.000000           186072.000000   \n",
              "mean              0.481631       0.255992                0.079383   \n",
              "std               1.663396       0.575932                0.534076   \n",
              "min              -1.000000      -1.000000               -1.000000   \n",
              "25%               0.000000       0.000000                0.000000   \n",
              "50%               0.000000       0.000000                0.000000   \n",
              "75%               0.000000       0.000000                0.000000   \n",
              "max               9.000000       2.000000                4.000000   \n",
              "\n",
              "       pedestrian_road_maintenance_worker  casualty_type  \\\n",
              "count                       186072.000000  186072.000000   \n",
              "mean                             0.060428       7.277414   \n",
              "std                              0.345463       7.506004   \n",
              "min                             -1.000000       0.000000   \n",
              "25%                              0.000000       3.000000   \n",
              "50%                              0.000000       9.000000   \n",
              "75%                              0.000000       9.000000   \n",
              "max                              2.000000      98.000000   \n",
              "\n",
              "       casualty_home_area_type  casualty_imd_decile  \n",
              "count            186072.000000        186072.000000  \n",
              "mean                  1.045665             3.848236  \n",
              "std                   0.959294             3.491443  \n",
              "min                  -1.000000            -1.000000  \n",
              "25%                   1.000000             1.000000  \n",
              "50%                   1.000000             4.000000  \n",
              "75%                   1.000000             7.000000  \n",
              "max                   3.000000            10.000000  \n",
              "\n",
              "[8 rows x 65 columns]"
            ],
            "text/html": [
              "\n",
              "  <div id=\"df-0f9aa580-8a71-4efc-bd35-43f1094a4f19\">\n",
              "    <div class=\"colab-df-container\">\n",
              "      <div>\n",
              "<style scoped>\n",
              "    .dataframe tbody tr th:only-of-type {\n",
              "        vertical-align: middle;\n",
              "    }\n",
              "\n",
              "    .dataframe tbody tr th {\n",
              "        vertical-align: top;\n",
              "    }\n",
              "\n",
              "    .dataframe thead th {\n",
              "        text-align: right;\n",
              "    }\n",
              "</style>\n",
              "<table border=\"1\" class=\"dataframe\">\n",
              "  <thead>\n",
              "    <tr style=\"text-align: right;\">\n",
              "      <th></th>\n",
              "      <th>vehicle_reference</th>\n",
              "      <th>vehicle_type</th>\n",
              "      <th>towing_and_articulation</th>\n",
              "      <th>vehicle_manoeuvre</th>\n",
              "      <th>vehicle_location-restricted_lane</th>\n",
              "      <th>junction_location</th>\n",
              "      <th>skidding_and_overturning</th>\n",
              "      <th>hit_object_in_carriageway</th>\n",
              "      <th>vehicle_leaving_carriageway</th>\n",
              "      <th>hit_object_off_carriageway</th>\n",
              "      <th>...</th>\n",
              "      <th>age_band_of_casualty</th>\n",
              "      <th>casualty_severity</th>\n",
              "      <th>pedestrian_location</th>\n",
              "      <th>pedestrian_movement</th>\n",
              "      <th>car_passenger</th>\n",
              "      <th>bus_or_coach_passenger</th>\n",
              "      <th>pedestrian_road_maintenance_worker</th>\n",
              "      <th>casualty_type</th>\n",
              "      <th>casualty_home_area_type</th>\n",
              "      <th>casualty_imd_decile</th>\n",
              "    </tr>\n",
              "  </thead>\n",
              "  <tbody>\n",
              "    <tr>\n",
              "      <th>count</th>\n",
              "      <td>2.853320e+05</td>\n",
              "      <td>285331.000000</td>\n",
              "      <td>285331.000000</td>\n",
              "      <td>285331.000000</td>\n",
              "      <td>285331.000000</td>\n",
              "      <td>285331.000000</td>\n",
              "      <td>285331.000000</td>\n",
              "      <td>285331.000000</td>\n",
              "      <td>285331.000000</td>\n",
              "      <td>285331.000000</td>\n",
              "      <td>...</td>\n",
              "      <td>186072.000000</td>\n",
              "      <td>186072.000000</td>\n",
              "      <td>186072.000000</td>\n",
              "      <td>186072.000000</td>\n",
              "      <td>186072.000000</td>\n",
              "      <td>186072.000000</td>\n",
              "      <td>186072.000000</td>\n",
              "      <td>186072.000000</td>\n",
              "      <td>186072.000000</td>\n",
              "      <td>186072.000000</td>\n",
              "    </tr>\n",
              "    <tr>\n",
              "      <th>mean</th>\n",
              "      <td>7.063002e+06</td>\n",
              "      <td>9.570765</td>\n",
              "      <td>0.026741</td>\n",
              "      <td>12.625323</td>\n",
              "      <td>0.124038</td>\n",
              "      <td>2.700075</td>\n",
              "      <td>0.200041</td>\n",
              "      <td>0.340356</td>\n",
              "      <td>0.377502</td>\n",
              "      <td>0.590244</td>\n",
              "      <td>...</td>\n",
              "      <td>6.245512</td>\n",
              "      <td>2.862462</td>\n",
              "      <td>0.672277</td>\n",
              "      <td>0.481631</td>\n",
              "      <td>0.255992</td>\n",
              "      <td>0.079383</td>\n",
              "      <td>0.060428</td>\n",
              "      <td>7.277414</td>\n",
              "      <td>1.045665</td>\n",
              "      <td>3.848236</td>\n",
              "    </tr>\n",
              "    <tr>\n",
              "      <th>std</th>\n",
              "      <td>3.772806e+09</td>\n",
              "      <td>8.515910</td>\n",
              "      <td>0.289672</td>\n",
              "      <td>6.191873</td>\n",
              "      <td>0.965362</td>\n",
              "      <td>3.270800</td>\n",
              "      <td>0.748732</td>\n",
              "      <td>1.679784</td>\n",
              "      <td>1.393303</td>\n",
              "      <td>2.168011</td>\n",
              "      <td>...</td>\n",
              "      <td>2.386162</td>\n",
              "      <td>0.370414</td>\n",
              "      <td>1.951045</td>\n",
              "      <td>1.663396</td>\n",
              "      <td>0.575932</td>\n",
              "      <td>0.534076</td>\n",
              "      <td>0.345463</td>\n",
              "      <td>7.506004</td>\n",
              "      <td>0.959294</td>\n",
              "      <td>3.491443</td>\n",
              "    </tr>\n",
              "    <tr>\n",
              "      <th>min</th>\n",
              "      <td>1.000000e+00</td>\n",
              "      <td>-1.000000</td>\n",
              "      <td>-1.000000</td>\n",
              "      <td>-1.000000</td>\n",
              "      <td>-1.000000</td>\n",
              "      <td>-1.000000</td>\n",
              "      <td>-1.000000</td>\n",
              "      <td>-1.000000</td>\n",
              "      <td>-1.000000</td>\n",
              "      <td>-1.000000</td>\n",
              "      <td>...</td>\n",
              "      <td>-1.000000</td>\n",
              "      <td>1.000000</td>\n",
              "      <td>-1.000000</td>\n",
              "      <td>-1.000000</td>\n",
              "      <td>-1.000000</td>\n",
              "      <td>-1.000000</td>\n",
              "      <td>-1.000000</td>\n",
              "      <td>0.000000</td>\n",
              "      <td>-1.000000</td>\n",
              "      <td>-1.000000</td>\n",
              "    </tr>\n",
              "    <tr>\n",
              "      <th>25%</th>\n",
              "      <td>1.000000e+00</td>\n",
              "      <td>9.000000</td>\n",
              "      <td>0.000000</td>\n",
              "      <td>7.000000</td>\n",
              "      <td>0.000000</td>\n",
              "      <td>0.000000</td>\n",
              "      <td>0.000000</td>\n",
              "      <td>0.000000</td>\n",
              "      <td>0.000000</td>\n",
              "      <td>0.000000</td>\n",
              "      <td>...</td>\n",
              "      <td>5.000000</td>\n",
              "      <td>3.000000</td>\n",
              "      <td>0.000000</td>\n",
              "      <td>0.000000</td>\n",
              "      <td>0.000000</td>\n",
              "      <td>0.000000</td>\n",
              "      <td>0.000000</td>\n",
              "      <td>3.000000</td>\n",
              "      <td>1.000000</td>\n",
              "      <td>1.000000</td>\n",
              "    </tr>\n",
              "    <tr>\n",
              "      <th>50%</th>\n",
              "      <td>1.000000e+00</td>\n",
              "      <td>9.000000</td>\n",
              "      <td>0.000000</td>\n",
              "      <td>17.000000</td>\n",
              "      <td>0.000000</td>\n",
              "      <td>1.000000</td>\n",
              "      <td>0.000000</td>\n",
              "      <td>0.000000</td>\n",
              "      <td>0.000000</td>\n",
              "      <td>0.000000</td>\n",
              "      <td>...</td>\n",
              "      <td>6.000000</td>\n",
              "      <td>3.000000</td>\n",
              "      <td>0.000000</td>\n",
              "      <td>0.000000</td>\n",
              "      <td>0.000000</td>\n",
              "      <td>0.000000</td>\n",
              "      <td>0.000000</td>\n",
              "      <td>9.000000</td>\n",
              "      <td>1.000000</td>\n",
              "      <td>4.000000</td>\n",
              "    </tr>\n",
              "    <tr>\n",
              "      <th>75%</th>\n",
              "      <td>2.000000e+00</td>\n",
              "      <td>9.000000</td>\n",
              "      <td>0.000000</td>\n",
              "      <td>18.000000</td>\n",
              "      <td>0.000000</td>\n",
              "      <td>6.000000</td>\n",
              "      <td>0.000000</td>\n",
              "      <td>0.000000</td>\n",
              "      <td>0.000000</td>\n",
              "      <td>0.000000</td>\n",
              "      <td>...</td>\n",
              "      <td>8.000000</td>\n",
              "      <td>3.000000</td>\n",
              "      <td>0.000000</td>\n",
              "      <td>0.000000</td>\n",
              "      <td>0.000000</td>\n",
              "      <td>0.000000</td>\n",
              "      <td>0.000000</td>\n",
              "      <td>9.000000</td>\n",
              "      <td>1.000000</td>\n",
              "      <td>7.000000</td>\n",
              "    </tr>\n",
              "    <tr>\n",
              "      <th>max</th>\n",
              "      <td>2.015300e+12</td>\n",
              "      <td>98.000000</td>\n",
              "      <td>5.000000</td>\n",
              "      <td>18.000000</td>\n",
              "      <td>9.000000</td>\n",
              "      <td>8.000000</td>\n",
              "      <td>5.000000</td>\n",
              "      <td>12.000000</td>\n",
              "      <td>8.000000</td>\n",
              "      <td>11.000000</td>\n",
              "      <td>...</td>\n",
              "      <td>11.000000</td>\n",
              "      <td>3.000000</td>\n",
              "      <td>10.000000</td>\n",
              "      <td>9.000000</td>\n",
              "      <td>2.000000</td>\n",
              "      <td>4.000000</td>\n",
              "      <td>2.000000</td>\n",
              "      <td>98.000000</td>\n",
              "      <td>3.000000</td>\n",
              "      <td>10.000000</td>\n",
              "    </tr>\n",
              "  </tbody>\n",
              "</table>\n",
              "<p>8 rows × 65 columns</p>\n",
              "</div>\n",
              "      <button class=\"colab-df-convert\" onclick=\"convertToInteractive('df-0f9aa580-8a71-4efc-bd35-43f1094a4f19')\"\n",
              "              title=\"Convert this dataframe to an interactive table.\"\n",
              "              style=\"display:none;\">\n",
              "        \n",
              "  <svg xmlns=\"http://www.w3.org/2000/svg\" height=\"24px\"viewBox=\"0 0 24 24\"\n",
              "       width=\"24px\">\n",
              "    <path d=\"M0 0h24v24H0V0z\" fill=\"none\"/>\n",
              "    <path d=\"M18.56 5.44l.94 2.06.94-2.06 2.06-.94-2.06-.94-.94-2.06-.94 2.06-2.06.94zm-11 1L8.5 8.5l.94-2.06 2.06-.94-2.06-.94L8.5 2.5l-.94 2.06-2.06.94zm10 10l.94 2.06.94-2.06 2.06-.94-2.06-.94-.94-2.06-.94 2.06-2.06.94z\"/><path d=\"M17.41 7.96l-1.37-1.37c-.4-.4-.92-.59-1.43-.59-.52 0-1.04.2-1.43.59L10.3 9.45l-7.72 7.72c-.78.78-.78 2.05 0 2.83L4 21.41c.39.39.9.59 1.41.59.51 0 1.02-.2 1.41-.59l7.78-7.78 2.81-2.81c.8-.78.8-2.07 0-2.86zM5.41 20L4 18.59l7.72-7.72 1.47 1.35L5.41 20z\"/>\n",
              "  </svg>\n",
              "      </button>\n",
              "      \n",
              "  <style>\n",
              "    .colab-df-container {\n",
              "      display:flex;\n",
              "      flex-wrap:wrap;\n",
              "      gap: 12px;\n",
              "    }\n",
              "\n",
              "    .colab-df-convert {\n",
              "      background-color: #E8F0FE;\n",
              "      border: none;\n",
              "      border-radius: 50%;\n",
              "      cursor: pointer;\n",
              "      display: none;\n",
              "      fill: #1967D2;\n",
              "      height: 32px;\n",
              "      padding: 0 0 0 0;\n",
              "      width: 32px;\n",
              "    }\n",
              "\n",
              "    .colab-df-convert:hover {\n",
              "      background-color: #E2EBFA;\n",
              "      box-shadow: 0px 1px 2px rgba(60, 64, 67, 0.3), 0px 1px 3px 1px rgba(60, 64, 67, 0.15);\n",
              "      fill: #174EA6;\n",
              "    }\n",
              "\n",
              "    [theme=dark] .colab-df-convert {\n",
              "      background-color: #3B4455;\n",
              "      fill: #D2E3FC;\n",
              "    }\n",
              "\n",
              "    [theme=dark] .colab-df-convert:hover {\n",
              "      background-color: #434B5C;\n",
              "      box-shadow: 0px 1px 3px 1px rgba(0, 0, 0, 0.15);\n",
              "      filter: drop-shadow(0px 1px 2px rgba(0, 0, 0, 0.3));\n",
              "      fill: #FFFFFF;\n",
              "    }\n",
              "  </style>\n",
              "\n",
              "      <script>\n",
              "        const buttonEl =\n",
              "          document.querySelector('#df-0f9aa580-8a71-4efc-bd35-43f1094a4f19 button.colab-df-convert');\n",
              "        buttonEl.style.display =\n",
              "          google.colab.kernel.accessAllowed ? 'block' : 'none';\n",
              "\n",
              "        async function convertToInteractive(key) {\n",
              "          const element = document.querySelector('#df-0f9aa580-8a71-4efc-bd35-43f1094a4f19');\n",
              "          const dataTable =\n",
              "            await google.colab.kernel.invokeFunction('convertToInteractive',\n",
              "                                                     [key], {});\n",
              "          if (!dataTable) return;\n",
              "\n",
              "          const docLinkHtml = 'Like what you see? Visit the ' +\n",
              "            '<a target=\"_blank\" href=https://colab.research.google.com/notebooks/data_table.ipynb>data table notebook</a>'\n",
              "            + ' to learn more about interactive tables.';\n",
              "          element.innerHTML = '';\n",
              "          dataTable['output_type'] = 'display_data';\n",
              "          await google.colab.output.renderOutput(dataTable, element);\n",
              "          const docLink = document.createElement('div');\n",
              "          docLink.innerHTML = docLinkHtml;\n",
              "          element.appendChild(docLink);\n",
              "        }\n",
              "      </script>\n",
              "    </div>\n",
              "  </div>\n",
              "  "
            ]
          },
          "metadata": {},
          "execution_count": 24
        }
      ]
    },
    {
      "cell_type": "code",
      "source": [
        "df1.isnull().sum()"
      ],
      "metadata": {
        "colab": {
          "base_uri": "https://localhost:8080/"
        },
        "id": "EpOrqFw-TWJ2",
        "outputId": "4a545428-e0c2-4ca6-f1a1-eda9fd0229dd"
      },
      "execution_count": null,
      "outputs": [
        {
          "output_type": "execute_result",
          "data": {
            "text/plain": [
              "accident_index                            2\n",
              "vehicle_reference                         0\n",
              "vehicle_type                              1\n",
              "towing_and_articulation                   1\n",
              "vehicle_manoeuvre                         1\n",
              "                                      ...  \n",
              "bus_or_coach_passenger                99260\n",
              "pedestrian_road_maintenance_worker    99260\n",
              "casualty_type                         99260\n",
              "casualty_home_area_type               99260\n",
              "casualty_imd_decile                   99260\n",
              "Length: 70, dtype: int64"
            ]
          },
          "metadata": {},
          "execution_count": 25
        }
      ]
    },
    {
      "cell_type": "code",
      "source": [
        "df1.isnull().values.any()"
      ],
      "metadata": {
        "colab": {
          "base_uri": "https://localhost:8080/"
        },
        "id": "W7td8feyTZos",
        "outputId": "dabe1749-3cb4-4b4f-d595-514388e4b460"
      },
      "execution_count": null,
      "outputs": [
        {
          "output_type": "execute_result",
          "data": {
            "text/plain": [
              "True"
            ]
          },
          "metadata": {},
          "execution_count": 26
        }
      ]
    },
    {
      "cell_type": "code",
      "source": [
        "df=df1.loc[:,df1.columns!='accident_index']\n",
        "df2=df.loc[:,df.columns!='local_authority_(highway)']\n",
        "df3=df2.loc[:,df2.columns!='lsoa_of_accident_location']\n",
        "df4=df3.loc[:,df3.columns!='date']\n",
        "df5=df4.loc[:,df4.columns!='time']\n",
        "df6=df5.fillna(0)"
      ],
      "metadata": {
        "id": "SNGPw8wZTbqa"
      },
      "execution_count": null,
      "outputs": []
    },
    {
      "cell_type": "code",
      "source": [
        "Y_mnl=df6['accident_severity']#Response\n",
        "X_mnl=df6.drop(['accident_severity'],1) #predictors\n",
        "\n",
        "X_train_mnl ,X_test_mnl,y_train_mnl,y_test_mnl=train_test_split(X_mnl,Y_mnl,test_size=0.3,random_state=0)"
      ],
      "metadata": {
        "colab": {
          "base_uri": "https://localhost:8080/"
        },
        "id": "4DGn581ZTeih",
        "outputId": "5926b178-190d-4fc8-ddbd-87ae4d3c75ac"
      },
      "execution_count": null,
      "outputs": [
        {
          "output_type": "stream",
          "name": "stderr",
          "text": [
            "/usr/local/lib/python3.7/dist-packages/ipykernel_launcher.py:2: FutureWarning: In a future version of pandas all arguments of DataFrame.drop except for the argument 'labels' will be keyword-only\n",
            "  \n"
          ]
        }
      ]
    },
    {
      "cell_type": "code",
      "source": [
        "print(\"Train data shape of x:\",X_train_mnl.shape)\n",
        "print(\"Test data shape of x:\",X_test_mnl.shape)\n",
        "print(\"Test data shape of y:\",y_test_mnl.shape)\n",
        "print(\"Train data shape of y:\",y_train_mnl.shape)"
      ],
      "metadata": {
        "colab": {
          "base_uri": "https://localhost:8080/"
        },
        "id": "RYusaB9yThOW",
        "outputId": "702a9d2e-f25a-45ff-f667-173d4c460c49"
      },
      "execution_count": null,
      "outputs": [
        {
          "output_type": "stream",
          "name": "stdout",
          "text": [
            "Train data shape of x: (199732, 64)\n",
            "Test data shape of x: (85600, 64)\n",
            "Test data shape of y: (85600,)\n",
            "Train data shape of y: (199732,)\n"
          ]
        }
      ]
    },
    {
      "cell_type": "code",
      "source": [
        "from sklearn.tree import DecisionTreeClassifier"
      ],
      "metadata": {
        "id": "ybWgtSwaTlmQ"
      },
      "execution_count": null,
      "outputs": []
    },
    {
      "cell_type": "code",
      "source": [
        "model_RF = DecisionTreeClassifier(random_state=0)"
      ],
      "metadata": {
        "id": "03A-iq1sTxfv"
      },
      "execution_count": null,
      "outputs": []
    },
    {
      "cell_type": "code",
      "source": [
        "model_RF.fit(X_train_mnl, y_train_mnl)"
      ],
      "metadata": {
        "colab": {
          "base_uri": "https://localhost:8080/"
        },
        "id": "mRfBzZdKTztY",
        "outputId": "8ad95a0c-44a3-4e0f-ff92-183ca4d3ae2b"
      },
      "execution_count": null,
      "outputs": [
        {
          "output_type": "execute_result",
          "data": {
            "text/plain": [
              "DecisionTreeClassifier(random_state=0)"
            ]
          },
          "metadata": {},
          "execution_count": 32
        }
      ]
    },
    {
      "cell_type": "code",
      "source": [
        "print(f'Decision tree has {model_RF.tree_.node_count} nodes with maximum depth {model_RF.tree_.max_depth}.')"
      ],
      "metadata": {
        "colab": {
          "base_uri": "https://localhost:8080/"
        },
        "id": "4tmw-GlmT1aG",
        "outputId": "5dfed627-9ade-4b7d-8cfe-f1322ff44415"
      },
      "execution_count": null,
      "outputs": [
        {
          "output_type": "stream",
          "name": "stdout",
          "text": [
            "Decision tree has 27349 nodes with maximum depth 50.\n"
          ]
        }
      ]
    },
    {
      "cell_type": "code",
      "source": [
        "print(f'Model Accuracy: {model_RF.score(X_train_mnl, y_train_mnl)}')"
      ],
      "metadata": {
        "colab": {
          "base_uri": "https://localhost:8080/"
        },
        "id": "GcBPkybXT4iA",
        "outputId": "b9999ab8-4bf9-40b1-b0f9-1d19a89572fa"
      },
      "execution_count": null,
      "outputs": [
        {
          "output_type": "stream",
          "name": "stdout",
          "text": [
            "Model Accuracy: 1.0\n"
          ]
        }
      ]
    },
    {
      "cell_type": "code",
      "source": [
        "from sklearn import metrics"
      ],
      "metadata": {
        "id": "TdfcMXfTT6h8"
      },
      "execution_count": null,
      "outputs": []
    },
    {
      "cell_type": "code",
      "source": [
        "pred = model_RF.predict(X_test_mnl)"
      ],
      "metadata": {
        "id": "T10lwAv3T9sz"
      },
      "execution_count": null,
      "outputs": []
    },
    {
      "cell_type": "code",
      "source": [
        "print(metrics.accuracy_score(pred,y_test_mnl))"
      ],
      "metadata": {
        "colab": {
          "base_uri": "https://localhost:8080/"
        },
        "id": "44lOc6YpT_-2",
        "outputId": "face4496-eed9-448e-a0a8-7fed4a9e0a27"
      },
      "execution_count": null,
      "outputs": [
        {
          "output_type": "stream",
          "name": "stdout",
          "text": [
            "0.8991939252336448\n"
          ]
        }
      ]
    },
    {
      "cell_type": "code",
      "source": [
        "cm6 = metrics.confusion_matrix(pred,y_test_mnl)"
      ],
      "metadata": {
        "id": "pa63BxjaUCdQ"
      },
      "execution_count": null,
      "outputs": []
    },
    {
      "cell_type": "code",
      "source": [
        "print(cm6)"
      ],
      "metadata": {
        "colab": {
          "base_uri": "https://localhost:8080/"
        },
        "id": "4MgqnZ53UEI3",
        "outputId": "1d806610-88ed-4441-e7ce-e5bc712fe173"
      },
      "execution_count": null,
      "outputs": [
        {
          "output_type": "stream",
          "name": "stdout",
          "text": [
            "[[    0     0     0     0]\n",
            " [    0   720   190   285]\n",
            " [    0   165  7980  4173]\n",
            " [    1   234  3581 68271]]\n"
          ]
        }
      ]
    },
    {
      "cell_type": "code",
      "source": [
        "dtree= DecisionTreeClassifier()\n",
        "dtree.fit(X_train_mnl,y_train_mnl)\n",
        "predictions= dtree.predict(X_test_mnl)\n",
        "from sklearn.metrics import classification_report, confusion_matrix\n",
        "print(classification_report(y_test_mnl,predictions))"
      ],
      "metadata": {
        "colab": {
          "base_uri": "https://localhost:8080/"
        },
        "id": "F7iXK8UfUGH8",
        "outputId": "f44c3691-d4ee-4497-d3c7-df03380d8eb5"
      },
      "execution_count": null,
      "outputs": [
        {
          "output_type": "stream",
          "name": "stdout",
          "text": [
            "              precision    recall  f1-score   support\n",
            "\n",
            "         0.0       0.00      0.00      0.00         1\n",
            "         1.0       0.61      0.65      0.62      1119\n",
            "         2.0       0.65      0.68      0.66     11751\n",
            "         3.0       0.95      0.94      0.94     72729\n",
            "\n",
            "    accuracy                           0.90     85600\n",
            "   macro avg       0.55      0.57      0.56     85600\n",
            "weighted avg       0.90      0.90      0.90     85600\n",
            "\n"
          ]
        },
        {
          "output_type": "stream",
          "name": "stderr",
          "text": [
            "/usr/local/lib/python3.7/dist-packages/sklearn/metrics/_classification.py:1318: UndefinedMetricWarning: Precision and F-score are ill-defined and being set to 0.0 in labels with no predicted samples. Use `zero_division` parameter to control this behavior.\n",
            "  _warn_prf(average, modifier, msg_start, len(result))\n",
            "/usr/local/lib/python3.7/dist-packages/sklearn/metrics/_classification.py:1318: UndefinedMetricWarning: Precision and F-score are ill-defined and being set to 0.0 in labels with no predicted samples. Use `zero_division` parameter to control this behavior.\n",
            "  _warn_prf(average, modifier, msg_start, len(result))\n",
            "/usr/local/lib/python3.7/dist-packages/sklearn/metrics/_classification.py:1318: UndefinedMetricWarning: Precision and F-score are ill-defined and being set to 0.0 in labels with no predicted samples. Use `zero_division` parameter to control this behavior.\n",
            "  _warn_prf(average, modifier, msg_start, len(result))\n"
          ]
        }
      ]
    },
    {
      "cell_type": "code",
      "source": [
        "plt.plot(predictions)"
      ],
      "metadata": {
        "colab": {
          "base_uri": "https://localhost:8080/",
          "height": 282
        },
        "id": "GpMmbALjUTFg",
        "outputId": "6e3ccac9-d5ed-4802-99e6-d7066e8a2085"
      },
      "execution_count": null,
      "outputs": [
        {
          "output_type": "execute_result",
          "data": {
            "text/plain": [
              "[<matplotlib.lines.Line2D at 0x7f8237253890>]"
            ]
          },
          "metadata": {},
          "execution_count": 41
        },
        {
          "output_type": "display_data",
          "data": {
            "text/plain": [
              "<Figure size 432x288 with 1 Axes>"
            ],
            "image/png": "[encoded data removed]"
          },
          "metadata": {
            "needs_background": "light"
          }
        }
      ]
    },
    {
      "cell_type": "code",
      "source": [
        ""
      ],
      "metadata": {
        "id": "7DhFVdCqUmB4"
      },
      "execution_count": null,
      "outputs": []
    }
  ]
}