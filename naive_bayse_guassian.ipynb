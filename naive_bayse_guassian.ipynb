{
  "nbformat": 4,
  "nbformat_minor": 0,
  "metadata": {
    "colab": {
      "name": "naive bayse guassian",
      "provenance": [],
      "collapsed_sections": []
    },
    "kernelspec": {
      "name": "python3",
      "display_name": "Python 3"
    },
    "language_info": {
      "name": "python"
    }
  },
  "cells": [
    {
      "cell_type": "code",
      "execution_count": null,
      "metadata": {
        "id": "fPdLGbkT7vFB"
      },
      "outputs": [],
      "source": [
        "import pandas as pd\n",
        "import numpy as np\n",
        "import matplotlib.pyplot as plt\n",
        "%matplotlib inline\n",
        "import seaborn as sns\n",
        "import os"
      ]
    },
    {
      "cell_type": "code",
      "source": [
        "from google.colab import drive\n",
        "drive.mount(\"/content/drive\")"
      ],
      "metadata": {
        "colab": {
          "base_uri": "https://localhost:8080/"
        },
        "id": "ckYVgd727zO6",
        "outputId": "009785c6-05b3-4513-a53f-e0f8be7248bd"
      },
      "execution_count": null,
      "outputs": [
        {
          "output_type": "stream",
          "name": "stdout",
          "text": [
            "Mounted at /content/drive\n"
          ]
        }
      ]
    },
    {
      "cell_type": "code",
      "source": [
        "df1=pd.read_csv('/content/drive/MyDrive/data.csv')"
      ],
      "metadata": {
        "colab": {
          "base_uri": "https://localhost:8080/"
        },
        "id": "KVAw9K1j70z2",
        "outputId": "926a2065-3729-4fab-ad64-306196a2ef55"
      },
      "execution_count": null,
      "outputs": [
        {
          "output_type": "stream",
          "name": "stderr",
          "text": [
            "/usr/local/lib/python3.7/dist-packages/IPython/core/interactiveshell.py:2882: DtypeWarning: Columns (0,55) have mixed types.Specify dtype option on import or set low_memory=False.\n",
            "  exec(code_obj, self.user_global_ns, self.user_ns)\n"
          ]
        }
      ]
    },
    {
      "cell_type": "code",
      "source": [
        "df1.head()"
      ],
      "metadata": {
        "colab": {
          "base_uri": "https://localhost:8080/",
          "height": 317
        },
        "id": "JwGE-b5A79AX",
        "outputId": "d722fa2b-9768-465e-b316-b0f079c26ca2"
      },
      "execution_count": null,
      "outputs": [
        {
          "output_type": "execute_result",
          "data": {
            "text/plain": [
              "  accident_index  vehicle_reference  vehicle_type  towing_and_articulation  \\\n",
              "0  201506E098757                2.0           9.0                      0.0   \n",
              "1  201506E098766                1.0           9.0                      0.0   \n",
              "2  201506E098766                2.0           9.0                      0.0   \n",
              "3  201506E098777                1.0          20.0                      0.0   \n",
              "4  201506E098780                1.0           9.0                      0.0   \n",
              "\n",
              "   vehicle_manoeuvre  vehicle_location-restricted_lane  junction_location  \\\n",
              "0               18.0                               0.0                8.0   \n",
              "1                9.0                               0.0                8.0   \n",
              "2               18.0                               0.0                8.0   \n",
              "3                4.0                               0.0                0.0   \n",
              "4               15.0                               0.0                1.0   \n",
              "\n",
              "   skidding_and_overturning  hit_object_in_carriageway  \\\n",
              "0                       0.0                        0.0   \n",
              "1                       0.0                        0.0   \n",
              "2                       0.0                        0.0   \n",
              "3                       0.0                        0.0   \n",
              "4                       0.0                        0.0   \n",
              "\n",
              "   vehicle_leaving_carriageway  ...  age_band_of_casualty  casualty_severity  \\\n",
              "0                          0.0  ...                   NaN                NaN   \n",
              "1                          0.0  ...                   NaN                NaN   \n",
              "2                          0.0  ...                   8.0                3.0   \n",
              "3                          0.0  ...                   6.0                3.0   \n",
              "4                          0.0  ...                   NaN                NaN   \n",
              "\n",
              "   pedestrian_location  pedestrian_movement  car_passenger  \\\n",
              "0                  NaN                  NaN            NaN   \n",
              "1                  NaN                  NaN            NaN   \n",
              "2                  0.0                  0.0            0.0   \n",
              "3                  1.0                  1.0            0.0   \n",
              "4                  NaN                  NaN            NaN   \n",
              "\n",
              "   bus_or_coach_passenger  pedestrian_road_maintenance_worker  casualty_type  \\\n",
              "0                     NaN                                 NaN            NaN   \n",
              "1                     NaN                                 NaN            NaN   \n",
              "2                     0.0                                 0.0            9.0   \n",
              "3                     0.0                                 0.0            0.0   \n",
              "4                     NaN                                 NaN            NaN   \n",
              "\n",
              "   casualty_home_area_type  casualty_imd_decile  \n",
              "0                      NaN                  NaN  \n",
              "1                      NaN                  NaN  \n",
              "2                      1.0                  3.0  \n",
              "3                      1.0                  1.0  \n",
              "4                      NaN                  NaN  \n",
              "\n",
              "[5 rows x 70 columns]"
            ],
            "text/html": [
              "\n",
              "  <div id=\"df-1e1d05e7-7e81-408b-8ef0-3b0949fe50a0\">\n",
              "    <div class=\"colab-df-container\">\n",
              "      <div>\n",
              "<style scoped>\n",
              "    .dataframe tbody tr th:only-of-type {\n",
              "        vertical-align: middle;\n",
              "    }\n",
              "\n",
              "    .dataframe tbody tr th {\n",
              "        vertical-align: top;\n",
              "    }\n",
              "\n",
              "    .dataframe thead th {\n",
              "        text-align: right;\n",
              "    }\n",
              "</style>\n",
              "<table border=\"1\" class=\"dataframe\">\n",
              "  <thead>\n",
              "    <tr style=\"text-align: right;\">\n",
              "      <th></th>\n",
              "      <th>accident_index</th>\n",
              "      <th>vehicle_reference</th>\n",
              "      <th>vehicle_type</th>\n",
              "      <th>towing_and_articulation</th>\n",
              "      <th>vehicle_manoeuvre</th>\n",
              "      <th>vehicle_location-restricted_lane</th>\n",
              "      <th>junction_location</th>\n",
              "      <th>skidding_and_overturning</th>\n",
              "      <th>hit_object_in_carriageway</th>\n",
              "      <th>vehicle_leaving_carriageway</th>\n",
              "      <th>...</th>\n",
              "      <th>age_band_of_casualty</th>\n",
              "      <th>casualty_severity</th>\n",
              "      <th>pedestrian_location</th>\n",
              "      <th>pedestrian_movement</th>\n",
              "      <th>car_passenger</th>\n",
              "      <th>bus_or_coach_passenger</th>\n",
              "      <th>pedestrian_road_maintenance_worker</th>\n",
              "      <th>casualty_type</th>\n",
              "      <th>casualty_home_area_type</th>\n",
              "      <th>casualty_imd_decile</th>\n",
              "    </tr>\n",
              "  </thead>\n",
              "  <tbody>\n",
              "    <tr>\n",
              "      <th>0</th>\n",
              "      <td>201506E098757</td>\n",
              "      <td>2.0</td>\n",
              "      <td>9.0</td>\n",
              "      <td>0.0</td>\n",
              "      <td>18.0</td>\n",
              "      <td>0.0</td>\n",
              "      <td>8.0</td>\n",
              "      <td>0.0</td>\n",
              "      <td>0.0</td>\n",
              "      <td>0.0</td>\n",
              "      <td>...</td>\n",
              "      <td>NaN</td>\n",
              "      <td>NaN</td>\n",
              "      <td>NaN</td>\n",
              "      <td>NaN</td>\n",
              "      <td>NaN</td>\n",
              "      <td>NaN</td>\n",
              "      <td>NaN</td>\n",
              "      <td>NaN</td>\n",
              "      <td>NaN</td>\n",
              "      <td>NaN</td>\n",
              "    </tr>\n",
              "    <tr>\n",
              "      <th>1</th>\n",
              "      <td>201506E098766</td>\n",
              "      <td>1.0</td>\n",
              "      <td>9.0</td>\n",
              "      <td>0.0</td>\n",
              "      <td>9.0</td>\n",
              "      <td>0.0</td>\n",
              "      <td>8.0</td>\n",
              "      <td>0.0</td>\n",
              "      <td>0.0</td>\n",
              "      <td>0.0</td>\n",
              "      <td>...</td>\n",
              "      <td>NaN</td>\n",
              "      <td>NaN</td>\n",
              "      <td>NaN</td>\n",
              "      <td>NaN</td>\n",
              "      <td>NaN</td>\n",
              "      <td>NaN</td>\n",
              "      <td>NaN</td>\n",
              "      <td>NaN</td>\n",
              "      <td>NaN</td>\n",
              "      <td>NaN</td>\n",
              "    </tr>\n",
              "    <tr>\n",
              "      <th>2</th>\n",
              "      <td>201506E098766</td>\n",
              "      <td>2.0</td>\n",
              "      <td>9.0</td>\n",
              "      <td>0.0</td>\n",
              "      <td>18.0</td>\n",
              "      <td>0.0</td>\n",
              "      <td>8.0</td>\n",
              "      <td>0.0</td>\n",
              "      <td>0.0</td>\n",
              "      <td>0.0</td>\n",
              "      <td>...</td>\n",
              "      <td>8.0</td>\n",
              "      <td>3.0</td>\n",
              "      <td>0.0</td>\n",
              "      <td>0.0</td>\n",
              "      <td>0.0</td>\n",
              "      <td>0.0</td>\n",
              "      <td>0.0</td>\n",
              "      <td>9.0</td>\n",
              "      <td>1.0</td>\n",
              "      <td>3.0</td>\n",
              "    </tr>\n",
              "    <tr>\n",
              "      <th>3</th>\n",
              "      <td>201506E098777</td>\n",
              "      <td>1.0</td>\n",
              "      <td>20.0</td>\n",
              "      <td>0.0</td>\n",
              "      <td>4.0</td>\n",
              "      <td>0.0</td>\n",
              "      <td>0.0</td>\n",
              "      <td>0.0</td>\n",
              "      <td>0.0</td>\n",
              "      <td>0.0</td>\n",
              "      <td>...</td>\n",
              "      <td>6.0</td>\n",
              "      <td>3.0</td>\n",
              "      <td>1.0</td>\n",
              "      <td>1.0</td>\n",
              "      <td>0.0</td>\n",
              "      <td>0.0</td>\n",
              "      <td>0.0</td>\n",
              "      <td>0.0</td>\n",
              "      <td>1.0</td>\n",
              "      <td>1.0</td>\n",
              "    </tr>\n",
              "    <tr>\n",
              "      <th>4</th>\n",
              "      <td>201506E098780</td>\n",
              "      <td>1.0</td>\n",
              "      <td>9.0</td>\n",
              "      <td>0.0</td>\n",
              "      <td>15.0</td>\n",
              "      <td>0.0</td>\n",
              "      <td>1.0</td>\n",
              "      <td>0.0</td>\n",
              "      <td>0.0</td>\n",
              "      <td>0.0</td>\n",
              "      <td>...</td>\n",
              "      <td>NaN</td>\n",
              "      <td>NaN</td>\n",
              "      <td>NaN</td>\n",
              "      <td>NaN</td>\n",
              "      <td>NaN</td>\n",
              "      <td>NaN</td>\n",
              "      <td>NaN</td>\n",
              "      <td>NaN</td>\n",
              "      <td>NaN</td>\n",
              "      <td>NaN</td>\n",
              "    </tr>\n",
              "  </tbody>\n",
              "</table>\n",
              "<p>5 rows × 70 columns</p>\n",
              "</div>\n",
              "      <button class=\"colab-df-convert\" onclick=\"convertToInteractive('df-1e1d05e7-7e81-408b-8ef0-3b0949fe50a0')\"\n",
              "              title=\"Convert this dataframe to an interactive table.\"\n",
              "              style=\"display:none;\">\n",
              "        \n",
              "  <svg xmlns=\"http://www.w3.org/2000/svg\" height=\"24px\"viewBox=\"0 0 24 24\"\n",
              "       width=\"24px\">\n",
              "    <path d=\"M0 0h24v24H0V0z\" fill=\"none\"/>\n",
              "    <path d=\"M18.56 5.44l.94 2.06.94-2.06 2.06-.94-2.06-.94-.94-2.06-.94 2.06-2.06.94zm-11 1L8.5 8.5l.94-2.06 2.06-.94-2.06-.94L8.5 2.5l-.94 2.06-2.06.94zm10 10l.94 2.06.94-2.06 2.06-.94-2.06-.94-.94-2.06-.94 2.06-2.06.94z\"/><path d=\"M17.41 7.96l-1.37-1.37c-.4-.4-.92-.59-1.43-.59-.52 0-1.04.2-1.43.59L10.3 9.45l-7.72 7.72c-.78.78-.78 2.05 0 2.83L4 21.41c.39.39.9.59 1.41.59.51 0 1.02-.2 1.41-.59l7.78-7.78 2.81-2.81c.8-.78.8-2.07 0-2.86zM5.41 20L4 18.59l7.72-7.72 1.47 1.35L5.41 20z\"/>\n",
              "  </svg>\n",
              "      </button>\n",
              "      \n",
              "  <style>\n",
              "    .colab-df-container {\n",
              "      display:flex;\n",
              "      flex-wrap:wrap;\n",
              "      gap: 12px;\n",
              "    }\n",
              "\n",
              "    .colab-df-convert {\n",
              "      background-color: #E8F0FE;\n",
              "      border: none;\n",
              "      border-radius: 50%;\n",
              "      cursor: pointer;\n",
              "      display: none;\n",
              "      fill: #1967D2;\n",
              "      height: 32px;\n",
              "      padding: 0 0 0 0;\n",
              "      width: 32px;\n",
              "    }\n",
              "\n",
              "    .colab-df-convert:hover {\n",
              "      background-color: #E2EBFA;\n",
              "      box-shadow: 0px 1px 2px rgba(60, 64, 67, 0.3), 0px 1px 3px 1px rgba(60, 64, 67, 0.15);\n",
              "      fill: #174EA6;\n",
              "    }\n",
              "\n",
              "    [theme=dark] .colab-df-convert {\n",
              "      background-color: #3B4455;\n",
              "      fill: #D2E3FC;\n",
              "    }\n",
              "\n",
              "    [theme=dark] .colab-df-convert:hover {\n",
              "      background-color: #434B5C;\n",
              "      box-shadow: 0px 1px 3px 1px rgba(0, 0, 0, 0.15);\n",
              "      filter: drop-shadow(0px 1px 2px rgba(0, 0, 0, 0.3));\n",
              "      fill: #FFFFFF;\n",
              "    }\n",
              "  </style>\n",
              "\n",
              "      <script>\n",
              "        const buttonEl =\n",
              "          document.querySelector('#df-1e1d05e7-7e81-408b-8ef0-3b0949fe50a0 button.colab-df-convert');\n",
              "        buttonEl.style.display =\n",
              "          google.colab.kernel.accessAllowed ? 'block' : 'none';\n",
              "\n",
              "        async function convertToInteractive(key) {\n",
              "          const element = document.querySelector('#df-1e1d05e7-7e81-408b-8ef0-3b0949fe50a0');\n",
              "          const dataTable =\n",
              "            await google.colab.kernel.invokeFunction('convertToInteractive',\n",
              "                                                     [key], {});\n",
              "          if (!dataTable) return;\n",
              "\n",
              "          const docLinkHtml = 'Like what you see? Visit the ' +\n",
              "            '<a target=\"_blank\" href=https://colab.research.google.com/notebooks/data_table.ipynb>data table notebook</a>'\n",
              "            + ' to learn more about interactive tables.';\n",
              "          element.innerHTML = '';\n",
              "          dataTable['output_type'] = 'display_data';\n",
              "          await google.colab.output.renderOutput(dataTable, element);\n",
              "          const docLink = document.createElement('div');\n",
              "          docLink.innerHTML = docLinkHtml;\n",
              "          element.appendChild(docLink);\n",
              "        }\n",
              "      </script>\n",
              "    </div>\n",
              "  </div>\n",
              "  "
            ]
          },
          "metadata": {},
          "execution_count": 4
        }
      ]
    },
    {
      "cell_type": "code",
      "source": [
        "df1.shape"
      ],
      "metadata": {
        "colab": {
          "base_uri": "https://localhost:8080/"
        },
        "id": "rhu2dTzn_krg",
        "outputId": "dfe59601-6662-43b9-d3ea-984be054b0cb"
      },
      "execution_count": null,
      "outputs": [
        {
          "output_type": "execute_result",
          "data": {
            "text/plain": [
              "(285332, 70)"
            ]
          },
          "metadata": {},
          "execution_count": 17
        }
      ]
    },
    {
      "cell_type": "code",
      "source": [
        "df1.size"
      ],
      "metadata": {
        "colab": {
          "base_uri": "https://localhost:8080/"
        },
        "id": "T95_IiRn_0mb",
        "outputId": "cdb42a7b-f1c4-4353-a574-f575cba14123"
      },
      "execution_count": null,
      "outputs": [
        {
          "output_type": "execute_result",
          "data": {
            "text/plain": [
              "19973240"
            ]
          },
          "metadata": {},
          "execution_count": 18
        }
      ]
    },
    {
      "cell_type": "code",
      "source": [
        "df1.describe()"
      ],
      "metadata": {
        "colab": {
          "base_uri": "https://localhost:8080/",
          "height": 411
        },
        "id": "GcnYSI0l_5vC",
        "outputId": "04870654-7484-4a6a-eb3f-725c2c0d6f98"
      },
      "execution_count": null,
      "outputs": [
        {
          "output_type": "execute_result",
          "data": {
            "text/plain": [
              "       vehicle_reference   vehicle_type  towing_and_articulation  \\\n",
              "count       2.853320e+05  285331.000000            285331.000000   \n",
              "mean        7.063002e+06       9.570765                 0.026741   \n",
              "std         3.772806e+09       8.515910                 0.289672   \n",
              "min         1.000000e+00      -1.000000                -1.000000   \n",
              "25%         1.000000e+00       9.000000                 0.000000   \n",
              "50%         1.000000e+00       9.000000                 0.000000   \n",
              "75%         2.000000e+00       9.000000                 0.000000   \n",
              "max         2.015300e+12      98.000000                 5.000000   \n",
              "\n",
              "       vehicle_manoeuvre  vehicle_location-restricted_lane  junction_location  \\\n",
              "count      285331.000000                     285331.000000      285331.000000   \n",
              "mean           12.625323                          0.124038           2.700075   \n",
              "std             6.191873                          0.965362           3.270800   \n",
              "min            -1.000000                         -1.000000          -1.000000   \n",
              "25%             7.000000                          0.000000           0.000000   \n",
              "50%            17.000000                          0.000000           1.000000   \n",
              "75%            18.000000                          0.000000           6.000000   \n",
              "max            18.000000                          9.000000           8.000000   \n",
              "\n",
              "       skidding_and_overturning  hit_object_in_carriageway  \\\n",
              "count             285331.000000              285331.000000   \n",
              "mean                   0.200041                   0.340356   \n",
              "std                    0.748732                   1.679784   \n",
              "min                   -1.000000                  -1.000000   \n",
              "25%                    0.000000                   0.000000   \n",
              "50%                    0.000000                   0.000000   \n",
              "75%                    0.000000                   0.000000   \n",
              "max                    5.000000                  12.000000   \n",
              "\n",
              "       vehicle_leaving_carriageway  hit_object_off_carriageway  ...  \\\n",
              "count                285331.000000               285331.000000  ...   \n",
              "mean                      0.377502                    0.590244  ...   \n",
              "std                       1.393303                    2.168011  ...   \n",
              "min                      -1.000000                   -1.000000  ...   \n",
              "25%                       0.000000                    0.000000  ...   \n",
              "50%                       0.000000                    0.000000  ...   \n",
              "75%                       0.000000                    0.000000  ...   \n",
              "max                       8.000000                   11.000000  ...   \n",
              "\n",
              "       age_band_of_casualty  casualty_severity  pedestrian_location  \\\n",
              "count         186072.000000      186072.000000        186072.000000   \n",
              "mean               6.245512           2.862462             0.672277   \n",
              "std                2.386162           0.370414             1.951045   \n",
              "min               -1.000000           1.000000            -1.000000   \n",
              "25%                5.000000           3.000000             0.000000   \n",
              "50%                6.000000           3.000000             0.000000   \n",
              "75%                8.000000           3.000000             0.000000   \n",
              "max               11.000000           3.000000            10.000000   \n",
              "\n",
              "       pedestrian_movement  car_passenger  bus_or_coach_passenger  \\\n",
              "count        186072.000000  186072.000000           186072.000000   \n",
              "mean              0.481631       0.255992                0.079383   \n",
              "std               1.663396       0.575932                0.534076   \n",
              "min              -1.000000      -1.000000               -1.000000   \n",
              "25%               0.000000       0.000000                0.000000   \n",
              "50%               0.000000       0.000000                0.000000   \n",
              "75%               0.000000       0.000000                0.000000   \n",
              "max               9.000000       2.000000                4.000000   \n",
              "\n",
              "       pedestrian_road_maintenance_worker  casualty_type  \\\n",
              "count                       186072.000000  186072.000000   \n",
              "mean                             0.060428       7.277414   \n",
              "std                              0.345463       7.506004   \n",
              "min                             -1.000000       0.000000   \n",
              "25%                              0.000000       3.000000   \n",
              "50%                              0.000000       9.000000   \n",
              "75%                              0.000000       9.000000   \n",
              "max                              2.000000      98.000000   \n",
              "\n",
              "       casualty_home_area_type  casualty_imd_decile  \n",
              "count            186072.000000        186072.000000  \n",
              "mean                  1.045665             3.848236  \n",
              "std                   0.959294             3.491443  \n",
              "min                  -1.000000            -1.000000  \n",
              "25%                   1.000000             1.000000  \n",
              "50%                   1.000000             4.000000  \n",
              "75%                   1.000000             7.000000  \n",
              "max                   3.000000            10.000000  \n",
              "\n",
              "[8 rows x 65 columns]"
            ],
            "text/html": [
              "\n",
              "  <div id=\"df-8e93873a-5be5-446b-bc01-193971fd393d\">\n",
              "    <div class=\"colab-df-container\">\n",
              "      <div>\n",
              "<style scoped>\n",
              "    .dataframe tbody tr th:only-of-type {\n",
              "        vertical-align: middle;\n",
              "    }\n",
              "\n",
              "    .dataframe tbody tr th {\n",
              "        vertical-align: top;\n",
              "    }\n",
              "\n",
              "    .dataframe thead th {\n",
              "        text-align: right;\n",
              "    }\n",
              "</style>\n",
              "<table border=\"1\" class=\"dataframe\">\n",
              "  <thead>\n",
              "    <tr style=\"text-align: right;\">\n",
              "      <th></th>\n",
              "      <th>vehicle_reference</th>\n",
              "      <th>vehicle_type</th>\n",
              "      <th>towing_and_articulation</th>\n",
              "      <th>vehicle_manoeuvre</th>\n",
              "      <th>vehicle_location-restricted_lane</th>\n",
              "      <th>junction_location</th>\n",
              "      <th>skidding_and_overturning</th>\n",
              "      <th>hit_object_in_carriageway</th>\n",
              "      <th>vehicle_leaving_carriageway</th>\n",
              "      <th>hit_object_off_carriageway</th>\n",
              "      <th>...</th>\n",
              "      <th>age_band_of_casualty</th>\n",
              "      <th>casualty_severity</th>\n",
              "      <th>pedestrian_location</th>\n",
              "      <th>pedestrian_movement</th>\n",
              "      <th>car_passenger</th>\n",
              "      <th>bus_or_coach_passenger</th>\n",
              "      <th>pedestrian_road_maintenance_worker</th>\n",
              "      <th>casualty_type</th>\n",
              "      <th>casualty_home_area_type</th>\n",
              "      <th>casualty_imd_decile</th>\n",
              "    </tr>\n",
              "  </thead>\n",
              "  <tbody>\n",
              "    <tr>\n",
              "      <th>count</th>\n",
              "      <td>2.853320e+05</td>\n",
              "      <td>285331.000000</td>\n",
              "      <td>285331.000000</td>\n",
              "      <td>285331.000000</td>\n",
              "      <td>285331.000000</td>\n",
              "      <td>285331.000000</td>\n",
              "      <td>285331.000000</td>\n",
              "      <td>285331.000000</td>\n",
              "      <td>285331.000000</td>\n",
              "      <td>285331.000000</td>\n",
              "      <td>...</td>\n",
              "      <td>186072.000000</td>\n",
              "      <td>186072.000000</td>\n",
              "      <td>186072.000000</td>\n",
              "      <td>186072.000000</td>\n",
              "      <td>186072.000000</td>\n",
              "      <td>186072.000000</td>\n",
              "      <td>186072.000000</td>\n",
              "      <td>186072.000000</td>\n",
              "      <td>186072.000000</td>\n",
              "      <td>186072.000000</td>\n",
              "    </tr>\n",
              "    <tr>\n",
              "      <th>mean</th>\n",
              "      <td>7.063002e+06</td>\n",
              "      <td>9.570765</td>\n",
              "      <td>0.026741</td>\n",
              "      <td>12.625323</td>\n",
              "      <td>0.124038</td>\n",
              "      <td>2.700075</td>\n",
              "      <td>0.200041</td>\n",
              "      <td>0.340356</td>\n",
              "      <td>0.377502</td>\n",
              "      <td>0.590244</td>\n",
              "      <td>...</td>\n",
              "      <td>6.245512</td>\n",
              "      <td>2.862462</td>\n",
              "      <td>0.672277</td>\n",
              "      <td>0.481631</td>\n",
              "      <td>0.255992</td>\n",
              "      <td>0.079383</td>\n",
              "      <td>0.060428</td>\n",
              "      <td>7.277414</td>\n",
              "      <td>1.045665</td>\n",
              "      <td>3.848236</td>\n",
              "    </tr>\n",
              "    <tr>\n",
              "      <th>std</th>\n",
              "      <td>3.772806e+09</td>\n",
              "      <td>8.515910</td>\n",
              "      <td>0.289672</td>\n",
              "      <td>6.191873</td>\n",
              "      <td>0.965362</td>\n",
              "      <td>3.270800</td>\n",
              "      <td>0.748732</td>\n",
              "      <td>1.679784</td>\n",
              "      <td>1.393303</td>\n",
              "      <td>2.168011</td>\n",
              "      <td>...</td>\n",
              "      <td>2.386162</td>\n",
              "      <td>0.370414</td>\n",
              "      <td>1.951045</td>\n",
              "      <td>1.663396</td>\n",
              "      <td>0.575932</td>\n",
              "      <td>0.534076</td>\n",
              "      <td>0.345463</td>\n",
              "      <td>7.506004</td>\n",
              "      <td>0.959294</td>\n",
              "      <td>3.491443</td>\n",
              "    </tr>\n",
              "    <tr>\n",
              "      <th>min</th>\n",
              "      <td>1.000000e+00</td>\n",
              "      <td>-1.000000</td>\n",
              "      <td>-1.000000</td>\n",
              "      <td>-1.000000</td>\n",
              "      <td>-1.000000</td>\n",
              "      <td>-1.000000</td>\n",
              "      <td>-1.000000</td>\n",
              "      <td>-1.000000</td>\n",
              "      <td>-1.000000</td>\n",
              "      <td>-1.000000</td>\n",
              "      <td>...</td>\n",
              "      <td>-1.000000</td>\n",
              "      <td>1.000000</td>\n",
              "      <td>-1.000000</td>\n",
              "      <td>-1.000000</td>\n",
              "      <td>-1.000000</td>\n",
              "      <td>-1.000000</td>\n",
              "      <td>-1.000000</td>\n",
              "      <td>0.000000</td>\n",
              "      <td>-1.000000</td>\n",
              "      <td>-1.000000</td>\n",
              "    </tr>\n",
              "    <tr>\n",
              "      <th>25%</th>\n",
              "      <td>1.000000e+00</td>\n",
              "      <td>9.000000</td>\n",
              "      <td>0.000000</td>\n",
              "      <td>7.000000</td>\n",
              "      <td>0.000000</td>\n",
              "      <td>0.000000</td>\n",
              "      <td>0.000000</td>\n",
              "      <td>0.000000</td>\n",
              "      <td>0.000000</td>\n",
              "      <td>0.000000</td>\n",
              "      <td>...</td>\n",
              "      <td>5.000000</td>\n",
              "      <td>3.000000</td>\n",
              "      <td>0.000000</td>\n",
              "      <td>0.000000</td>\n",
              "      <td>0.000000</td>\n",
              "      <td>0.000000</td>\n",
              "      <td>0.000000</td>\n",
              "      <td>3.000000</td>\n",
              "      <td>1.000000</td>\n",
              "      <td>1.000000</td>\n",
              "    </tr>\n",
              "    <tr>\n",
              "      <th>50%</th>\n",
              "      <td>1.000000e+00</td>\n",
              "      <td>9.000000</td>\n",
              "      <td>0.000000</td>\n",
              "      <td>17.000000</td>\n",
              "      <td>0.000000</td>\n",
              "      <td>1.000000</td>\n",
              "      <td>0.000000</td>\n",
              "      <td>0.000000</td>\n",
              "      <td>0.000000</td>\n",
              "      <td>0.000000</td>\n",
              "      <td>...</td>\n",
              "      <td>6.000000</td>\n",
              "      <td>3.000000</td>\n",
              "      <td>0.000000</td>\n",
              "      <td>0.000000</td>\n",
              "      <td>0.000000</td>\n",
              "      <td>0.000000</td>\n",
              "      <td>0.000000</td>\n",
              "      <td>9.000000</td>\n",
              "      <td>1.000000</td>\n",
              "      <td>4.000000</td>\n",
              "    </tr>\n",
              "    <tr>\n",
              "      <th>75%</th>\n",
              "      <td>2.000000e+00</td>\n",
              "      <td>9.000000</td>\n",
              "      <td>0.000000</td>\n",
              "      <td>18.000000</td>\n",
              "      <td>0.000000</td>\n",
              "      <td>6.000000</td>\n",
              "      <td>0.000000</td>\n",
              "      <td>0.000000</td>\n",
              "      <td>0.000000</td>\n",
              "      <td>0.000000</td>\n",
              "      <td>...</td>\n",
              "      <td>8.000000</td>\n",
              "      <td>3.000000</td>\n",
              "      <td>0.000000</td>\n",
              "      <td>0.000000</td>\n",
              "      <td>0.000000</td>\n",
              "      <td>0.000000</td>\n",
              "      <td>0.000000</td>\n",
              "      <td>9.000000</td>\n",
              "      <td>1.000000</td>\n",
              "      <td>7.000000</td>\n",
              "    </tr>\n",
              "    <tr>\n",
              "      <th>max</th>\n",
              "      <td>2.015300e+12</td>\n",
              "      <td>98.000000</td>\n",
              "      <td>5.000000</td>\n",
              "      <td>18.000000</td>\n",
              "      <td>9.000000</td>\n",
              "      <td>8.000000</td>\n",
              "      <td>5.000000</td>\n",
              "      <td>12.000000</td>\n",
              "      <td>8.000000</td>\n",
              "      <td>11.000000</td>\n",
              "      <td>...</td>\n",
              "      <td>11.000000</td>\n",
              "      <td>3.000000</td>\n",
              "      <td>10.000000</td>\n",
              "      <td>9.000000</td>\n",
              "      <td>2.000000</td>\n",
              "      <td>4.000000</td>\n",
              "      <td>2.000000</td>\n",
              "      <td>98.000000</td>\n",
              "      <td>3.000000</td>\n",
              "      <td>10.000000</td>\n",
              "    </tr>\n",
              "  </tbody>\n",
              "</table>\n",
              "<p>8 rows × 65 columns</p>\n",
              "</div>\n",
              "      <button class=\"colab-df-convert\" onclick=\"convertToInteractive('df-8e93873a-5be5-446b-bc01-193971fd393d')\"\n",
              "              title=\"Convert this dataframe to an interactive table.\"\n",
              "              style=\"display:none;\">\n",
              "        \n",
              "  <svg xmlns=\"http://www.w3.org/2000/svg\" height=\"24px\"viewBox=\"0 0 24 24\"\n",
              "       width=\"24px\">\n",
              "    <path d=\"M0 0h24v24H0V0z\" fill=\"none\"/>\n",
              "    <path d=\"M18.56 5.44l.94 2.06.94-2.06 2.06-.94-2.06-.94-.94-2.06-.94 2.06-2.06.94zm-11 1L8.5 8.5l.94-2.06 2.06-.94-2.06-.94L8.5 2.5l-.94 2.06-2.06.94zm10 10l.94 2.06.94-2.06 2.06-.94-2.06-.94-.94-2.06-.94 2.06-2.06.94z\"/><path d=\"M17.41 7.96l-1.37-1.37c-.4-.4-.92-.59-1.43-.59-.52 0-1.04.2-1.43.59L10.3 9.45l-7.72 7.72c-.78.78-.78 2.05 0 2.83L4 21.41c.39.39.9.59 1.41.59.51 0 1.02-.2 1.41-.59l7.78-7.78 2.81-2.81c.8-.78.8-2.07 0-2.86zM5.41 20L4 18.59l7.72-7.72 1.47 1.35L5.41 20z\"/>\n",
              "  </svg>\n",
              "      </button>\n",
              "      \n",
              "  <style>\n",
              "    .colab-df-container {\n",
              "      display:flex;\n",
              "      flex-wrap:wrap;\n",
              "      gap: 12px;\n",
              "    }\n",
              "\n",
              "    .colab-df-convert {\n",
              "      background-color: #E8F0FE;\n",
              "      border: none;\n",
              "      border-radius: 50%;\n",
              "      cursor: pointer;\n",
              "      display: none;\n",
              "      fill: #1967D2;\n",
              "      height: 32px;\n",
              "      padding: 0 0 0 0;\n",
              "      width: 32px;\n",
              "    }\n",
              "\n",
              "    .colab-df-convert:hover {\n",
              "      background-color: #E2EBFA;\n",
              "      box-shadow: 0px 1px 2px rgba(60, 64, 67, 0.3), 0px 1px 3px 1px rgba(60, 64, 67, 0.15);\n",
              "      fill: #174EA6;\n",
              "    }\n",
              "\n",
              "    [theme=dark] .colab-df-convert {\n",
              "      background-color: #3B4455;\n",
              "      fill: #D2E3FC;\n",
              "    }\n",
              "\n",
              "    [theme=dark] .colab-df-convert:hover {\n",
              "      background-color: #434B5C;\n",
              "      box-shadow: 0px 1px 3px 1px rgba(0, 0, 0, 0.15);\n",
              "      filter: drop-shadow(0px 1px 2px rgba(0, 0, 0, 0.3));\n",
              "      fill: #FFFFFF;\n",
              "    }\n",
              "  </style>\n",
              "\n",
              "      <script>\n",
              "        const buttonEl =\n",
              "          document.querySelector('#df-8e93873a-5be5-446b-bc01-193971fd393d button.colab-df-convert');\n",
              "        buttonEl.style.display =\n",
              "          google.colab.kernel.accessAllowed ? 'block' : 'none';\n",
              "\n",
              "        async function convertToInteractive(key) {\n",
              "          const element = document.querySelector('#df-8e93873a-5be5-446b-bc01-193971fd393d');\n",
              "          const dataTable =\n",
              "            await google.colab.kernel.invokeFunction('convertToInteractive',\n",
              "                                                     [key], {});\n",
              "          if (!dataTable) return;\n",
              "\n",
              "          const docLinkHtml = 'Like what you see? Visit the ' +\n",
              "            '<a target=\"_blank\" href=https://colab.research.google.com/notebooks/data_table.ipynb>data table notebook</a>'\n",
              "            + ' to learn more about interactive tables.';\n",
              "          element.innerHTML = '';\n",
              "          dataTable['output_type'] = 'display_data';\n",
              "          await google.colab.output.renderOutput(dataTable, element);\n",
              "          const docLink = document.createElement('div');\n",
              "          docLink.innerHTML = docLinkHtml;\n",
              "          element.appendChild(docLink);\n",
              "        }\n",
              "      </script>\n",
              "    </div>\n",
              "  </div>\n",
              "  "
            ]
          },
          "metadata": {},
          "execution_count": 19
        }
      ]
    },
    {
      "cell_type": "code",
      "source": [
        "df1.columns\n",
        "df1.info()\n",
        "len(df1.columns)"
      ],
      "metadata": {
        "colab": {
          "base_uri": "https://localhost:8080/"
        },
        "id": "Tq_mys10_88D",
        "outputId": "4520fca3-d91c-41cf-fcd0-d2136660f2da"
      },
      "execution_count": null,
      "outputs": [
        {
          "output_type": "stream",
          "name": "stdout",
          "text": [
            "<class 'pandas.core.frame.DataFrame'>\n",
            "RangeIndex: 285332 entries, 0 to 285331\n",
            "Data columns (total 70 columns):\n",
            " #   Column                                            Non-Null Count   Dtype  \n",
            "---  ------                                            --------------   -----  \n",
            " 0   accident_index                                    285330 non-null  object \n",
            " 1   vehicle_reference                                 285332 non-null  float64\n",
            " 2   vehicle_type                                      285331 non-null  float64\n",
            " 3   towing_and_articulation                           285331 non-null  float64\n",
            " 4   vehicle_manoeuvre                                 285331 non-null  float64\n",
            " 5   vehicle_location-restricted_lane                  285331 non-null  float64\n",
            " 6   junction_location                                 285331 non-null  float64\n",
            " 7   skidding_and_overturning                          285331 non-null  float64\n",
            " 8   hit_object_in_carriageway                         285331 non-null  float64\n",
            " 9   vehicle_leaving_carriageway                       285331 non-null  float64\n",
            " 10  hit_object_off_carriageway                        285331 non-null  float64\n",
            " 11  1st_point_of_impact                               285331 non-null  float64\n",
            " 12  was_vehicle_left_hand_drive?                      285331 non-null  float64\n",
            " 13  journey_purpose_of_driver                         285331 non-null  float64\n",
            " 14  sex_of_driver                                     285331 non-null  float64\n",
            " 15  age_of_driver                                     285331 non-null  float64\n",
            " 16  age_band_of_driver                                285331 non-null  float64\n",
            " 17  engine_capacity_(cc)                              285331 non-null  float64\n",
            " 18  propulsion_code                                   285331 non-null  float64\n",
            " 19  age_of_vehicle                                    285331 non-null  float64\n",
            " 20  driver_imd_decile                                 285331 non-null  float64\n",
            " 21  driver_home_area_type                             285331 non-null  float64\n",
            " 22  vehicle_imd_decile                                285331 non-null  float64\n",
            " 23  NUmber_of_Casualities_unique_to_accident_index    285331 non-null  float64\n",
            " 24  No_of_Vehicles_involved_unique_to_accident_index  285331 non-null  float64\n",
            " 25  location_easting_osgr                             285270 non-null  float64\n",
            " 26  location_northing_osgr                            285270 non-null  float64\n",
            " 27  longitude                                         285270 non-null  float64\n",
            " 28  latitude                                          285270 non-null  float64\n",
            " 29  police_force                                      285331 non-null  float64\n",
            " 30  accident_severity                                 285331 non-null  float64\n",
            " 31  number_of_vehicles                                285331 non-null  float64\n",
            " 32  number_of_casualties                              285331 non-null  float64\n",
            " 33  date                                              285331 non-null  object \n",
            " 34  day_of_week                                       285331 non-null  float64\n",
            " 35  time                                              285298 non-null  object \n",
            " 36  local_authority_(district)                        285331 non-null  float64\n",
            " 37  local_authority_(highway)                         285331 non-null  object \n",
            " 38  1st_road_class                                    285331 non-null  float64\n",
            " 39  1st_road_number                                   285331 non-null  float64\n",
            " 40  road_type                                         285331 non-null  float64\n",
            " 41  speed_limit                                       285331 non-null  float64\n",
            " 42  junction_detail                                   285331 non-null  float64\n",
            " 43  junction_control                                  285331 non-null  float64\n",
            " 44  2nd_road_class                                    285331 non-null  float64\n",
            " 45  2nd_road_number                                   285331 non-null  float64\n",
            " 46  pedestrian_crossing-human_control                 285331 non-null  float64\n",
            " 47  pedestrian_crossing-physical_facilities           285331 non-null  float64\n",
            " 48  light_conditions                                  285331 non-null  float64\n",
            " 49  weather_conditions                                285331 non-null  float64\n",
            " 50  road_surface_conditions                           285331 non-null  float64\n",
            " 51  special_conditions_at_site                        285331 non-null  float64\n",
            " 52  carriageway_hazards                               285331 non-null  float64\n",
            " 53  urban_or_rural_area                               285331 non-null  float64\n",
            " 54  did_police_officer_attend_scene_of_accident       285331 non-null  float64\n",
            " 55  lsoa_of_accident_location                         268252 non-null  object \n",
            " 56  casualty_reference                                186072 non-null  float64\n",
            " 57  casualty_class                                    186072 non-null  float64\n",
            " 58  sex_of_casualty                                   186072 non-null  float64\n",
            " 59  age_of_casualty                                   186072 non-null  float64\n",
            " 60  age_band_of_casualty                              186072 non-null  float64\n",
            " 61  casualty_severity                                 186072 non-null  float64\n",
            " 62  pedestrian_location                               186072 non-null  float64\n",
            " 63  pedestrian_movement                               186072 non-null  float64\n",
            " 64  car_passenger                                     186072 non-null  float64\n",
            " 65  bus_or_coach_passenger                            186072 non-null  float64\n",
            " 66  pedestrian_road_maintenance_worker                186072 non-null  float64\n",
            " 67  casualty_type                                     186072 non-null  float64\n",
            " 68  casualty_home_area_type                           186072 non-null  float64\n",
            " 69  casualty_imd_decile                               186072 non-null  float64\n",
            "dtypes: float64(65), object(5)\n",
            "memory usage: 152.4+ MB\n"
          ]
        },
        {
          "output_type": "execute_result",
          "data": {
            "text/plain": [
              "70"
            ]
          },
          "metadata": {},
          "execution_count": 20
        }
      ]
    },
    {
      "cell_type": "code",
      "source": [
        "df1.isnull().sum()"
      ],
      "metadata": {
        "colab": {
          "base_uri": "https://localhost:8080/"
        },
        "id": "UikiPnUTAD8E",
        "outputId": "cfa33c84-1a3d-43fd-9532-9f29d4b954fd"
      },
      "execution_count": null,
      "outputs": [
        {
          "output_type": "execute_result",
          "data": {
            "text/plain": [
              "accident_index                            2\n",
              "vehicle_reference                         0\n",
              "vehicle_type                              1\n",
              "towing_and_articulation                   1\n",
              "vehicle_manoeuvre                         1\n",
              "                                      ...  \n",
              "bus_or_coach_passenger                99260\n",
              "pedestrian_road_maintenance_worker    99260\n",
              "casualty_type                         99260\n",
              "casualty_home_area_type               99260\n",
              "casualty_imd_decile                   99260\n",
              "Length: 70, dtype: int64"
            ]
          },
          "metadata": {},
          "execution_count": 21
        }
      ]
    },
    {
      "cell_type": "code",
      "source": [
        "df=df1.loc[:,df1.columns!='accident_index']\n",
        "df2=df.loc[:,df.columns!='local_authority_(highway)']\n",
        "df3=df2.loc[:,df2.columns!='lsoa_of_accident_location']\n",
        "df4=df3.loc[:,df3.columns!='date']\n",
        "df5=df4.loc[:,df4.columns!='time']\n",
        "df6=df5.fillna(0)"
      ],
      "metadata": {
        "id": "YqYTfx-_7-rr"
      },
      "execution_count": null,
      "outputs": []
    },
    {
      "cell_type": "code",
      "source": [
        "from sklearn.model_selection import train_test_split"
      ],
      "metadata": {
        "id": "tFHZ03Vx8L5k"
      },
      "execution_count": null,
      "outputs": []
    },
    {
      "cell_type": "code",
      "source": [
        "Y_mnl=df6['accident_severity']#Response\n",
        "X_mnl=df6.drop(['accident_severity'],1) #predictors\n",
        "\n",
        "X_train_mnl ,X_test_mnl,y_train_mnl,y_test_mnl=train_test_split(X_mnl,Y_mnl,test_size=0.3,random_state=0)"
      ],
      "metadata": {
        "colab": {
          "base_uri": "https://localhost:8080/"
        },
        "id": "yjvamCt18bzL",
        "outputId": "c1e4fd31-59bf-44f8-ee71-71c0c3c813d1"
      },
      "execution_count": null,
      "outputs": [
        {
          "output_type": "stream",
          "name": "stderr",
          "text": [
            "/usr/local/lib/python3.7/dist-packages/ipykernel_launcher.py:2: FutureWarning: In a future version of pandas all arguments of DataFrame.drop except for the argument 'labels' will be keyword-only\n",
            "  \n"
          ]
        }
      ]
    },
    {
      "cell_type": "code",
      "source": [
        "print(\"Train data shape of x:\",X_train_mnl.shape)\n",
        "print(\"Test data shape of x:\",X_test_mnl.shape)\n",
        "print(\"Test data shape of y:\",y_test_mnl.shape)\n",
        "print(\"Train data shape of y:\",y_train_mnl.shape)"
      ],
      "metadata": {
        "colab": {
          "base_uri": "https://localhost:8080/"
        },
        "id": "368RVbrP8erd",
        "outputId": "a2a6b2d4-c764-4471-bdb2-3be7b44c7de9"
      },
      "execution_count": null,
      "outputs": [
        {
          "output_type": "stream",
          "name": "stdout",
          "text": [
            "Train data shape of x: (199732, 64)\n",
            "Test data shape of x: (85600, 64)\n",
            "Test data shape of y: (85600,)\n",
            "Train data shape of y: (199732,)\n"
          ]
        }
      ]
    },
    {
      "cell_type": "code",
      "source": [
        ""
      ],
      "metadata": {
        "id": "_aNvYXWP_f_f"
      },
      "execution_count": null,
      "outputs": []
    },
    {
      "cell_type": "code",
      "source": [
        "from sklearn.naive_bayes import GaussianNB\n",
        "gnb = GaussianNB()\n",
        "gnb.fit(X_train_mnl, y_train_mnl)"
      ],
      "metadata": {
        "colab": {
          "base_uri": "https://localhost:8080/"
        },
        "id": "k3MCvi9M9ZOg",
        "outputId": "5a5ef7a3-2e10-4ba3-90da-d45cc50e4ab9"
      },
      "execution_count": null,
      "outputs": [
        {
          "output_type": "execute_result",
          "data": {
            "text/plain": [
              "GaussianNB()"
            ]
          },
          "metadata": {},
          "execution_count": 11
        }
      ]
    },
    {
      "cell_type": "code",
      "source": [
        "p2=gnb.predict(X_test_mnl)"
      ],
      "metadata": {
        "id": "QcvpzqOd9ZrG"
      },
      "execution_count": null,
      "outputs": []
    },
    {
      "cell_type": "code",
      "source": [
        "from sklearn.metrics import classification_report, confusion_matrix"
      ],
      "metadata": {
        "id": "OWvwTeoE9dZ4"
      },
      "execution_count": null,
      "outputs": []
    },
    {
      "cell_type": "code",
      "source": [
        "print(classification_report(y_test_mnl,p2))"
      ],
      "metadata": {
        "colab": {
          "base_uri": "https://localhost:8080/"
        },
        "id": "Qnt1zcbF9kxA",
        "outputId": "5254a27a-719e-4015-8acd-787c217f9816"
      },
      "execution_count": null,
      "outputs": [
        {
          "output_type": "stream",
          "name": "stdout",
          "text": [
            "              precision    recall  f1-score   support\n",
            "\n",
            "         0.0       0.00      0.00      0.00         1\n",
            "         1.0       0.05      0.10      0.07      1119\n",
            "         2.0       0.26      0.02      0.03     11751\n",
            "         3.0       0.85      0.97      0.91     72729\n",
            "\n",
            "    accuracy                           0.83     85600\n",
            "   macro avg       0.29      0.27      0.25     85600\n",
            "weighted avg       0.76      0.83      0.78     85600\n",
            "\n"
          ]
        },
        {
          "output_type": "stream",
          "name": "stderr",
          "text": [
            "/usr/local/lib/python3.7/dist-packages/sklearn/metrics/_classification.py:1318: UndefinedMetricWarning: Precision and F-score are ill-defined and being set to 0.0 in labels with no predicted samples. Use `zero_division` parameter to control this behavior.\n",
            "  _warn_prf(average, modifier, msg_start, len(result))\n",
            "/usr/local/lib/python3.7/dist-packages/sklearn/metrics/_classification.py:1318: UndefinedMetricWarning: Precision and F-score are ill-defined and being set to 0.0 in labels with no predicted samples. Use `zero_division` parameter to control this behavior.\n",
            "  _warn_prf(average, modifier, msg_start, len(result))\n",
            "/usr/local/lib/python3.7/dist-packages/sklearn/metrics/_classification.py:1318: UndefinedMetricWarning: Precision and F-score are ill-defined and being set to 0.0 in labels with no predicted samples. Use `zero_division` parameter to control this behavior.\n",
            "  _warn_prf(average, modifier, msg_start, len(result))\n"
          ]
        }
      ]
    },
    {
      "cell_type": "code",
      "source": [
        "plt.plot(p2)"
      ],
      "metadata": {
        "colab": {
          "base_uri": "https://localhost:8080/",
          "height": 282
        },
        "id": "-L6DocmJ9oT-",
        "outputId": "d81e3c54-108c-4c28-a64c-4a614c684578"
      },
      "execution_count": null,
      "outputs": [
        {
          "output_type": "execute_result",
          "data": {
            "text/plain": [
              "[<matplotlib.lines.Line2D at 0x7f9b5d1ea750>]"
            ]
          },
          "metadata": {},
          "execution_count": 16
        },
        {
          "output_type": "display_data",
          "data": {
            "text/plain": [
              "<Figure size 432x288 with 1 Axes>"
            ],
            "image/png": "[encoded data removed]"
          },
          "metadata": {
            "needs_background": "light"
          }
        }
      ]
    },
    {
      "cell_type": "code",
      "source": [
        ""
      ],
      "metadata": {
        "id": "SH6JiT409uuV"
      },
      "execution_count": null,
      "outputs": []
    }
  ]
}